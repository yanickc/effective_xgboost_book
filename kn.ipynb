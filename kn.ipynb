{
 "cells": [
  {
   "cell_type": "code",
   "execution_count": 1,
   "metadata": {},
   "outputs": [],
   "source": [
    "import numpy as np"
   ]
  },
  {
   "cell_type": "code",
   "execution_count": null,
   "metadata": {},
   "outputs": [],
   "source": [
    "def k_nearest_neighbors(x: np.dnarray, k: int) -> tuple[np.dnarray, np.dnarray]:\n",
    "    differences=np.expand_dims(x, 0)- np.expand_dims(x, 1)\n",
    "    # Or (differences ** 2).sum(axis=2) ** 0.5\n",
    "    distances = np.linalg.norm(differences, axis=2)\n",
    "    # (Bonus): Alternative distance method with N**2 memory, slightly lower compute.\n",
    "    # squares = (x ** 2).sum(axis=1, keepdims=True)  # (N, 1)\n",
    "    # distances = squares - 2 * np.matmul(x, x.transpose()) + squares.transpose()  # (N, N)\n",
    "    # (semi-optional) Exclude the point itself. (If not included, the indexing below is [:, 1: k+1]).\n",
    "    np.fill_diagonal(distances, float(\"infinity\"))\n",
    "    idx = np.argsort(distances, axis=1)[:, :k]\n",
    "    # The equivalent of torch.gather. Ok if the candidate doesn't know this method and just use sort,\n",
    "    # but they should know that is inefficient. (In pytorch the sort method returns both.)\n",
    "    values = np.take_along_axis(distances, idx, axis=1)\n",
    "    return values, idx"
   ]
  },
  {
   "cell_type": "code",
   "execution_count": null,
   "metadata": {},
   "outputs": [],
   "source": [
    "def k_nearest_neighbors(x: torch.Tensor, k: int) -> tuple[torch.Tensor, torch.Tensor]:\n",
    "    return torch.cdist(x,x).fill_diagonal_(float(\"infinity\")).topk(3, dim=1, largest=False)"
   ]
  },
  {
   "cell_type": "code",
   "execution_count": null,
   "metadata": {},
   "outputs": [],
   "source": [
    "def k_nearest_neighbors(x, k):\n",
    "    pass\n",
    "\n",
    "\n",
    "x = np.array([[0.0, 1.0], [0.0, 2.0], [5.0, 3.0], [6.0, 1.0]])\n",
    "\n",
    "\n",
    "values, idx = k_nearest_neighbors(x, 2)\n",
    "print(f\"Indices:\\n{idx}\\nDistances:\\n{values}\")"
   ]
  },
  {
   "cell_type": "code",
   "execution_count": 3,
   "metadata": {},
   "outputs": [],
   "source": [
    "x = np.array([[0.0, 1.0], [0.0, 2.0], [5.0, 3.0], [6.0, 1.0]])\n"
   ]
  },
  {
   "cell_type": "code",
   "execution_count": 6,
   "metadata": {},
   "outputs": [
    {
     "data": {
      "text/plain": [
       "array([[0., 1.],\n",
       "       [0., 2.],\n",
       "       [5., 3.],\n",
       "       [6., 1.]])"
      ]
     },
     "execution_count": 6,
     "metadata": {},
     "output_type": "execute_result"
    }
   ],
   "source": [
    "x"
   ]
  },
  {
   "cell_type": "code",
   "execution_count": 9,
   "metadata": {},
   "outputs": [
    {
     "data": {
      "text/plain": [
       "array([[0., 2.],\n",
       "       [5., 3.],\n",
       "       [6., 1.]])"
      ]
     },
     "execution_count": 9,
     "metadata": {},
     "output_type": "execute_result"
    }
   ],
   "source": [
    "x[1:]\n"
   ]
  },
  {
   "cell_type": "code",
   "execution_count": 11,
   "metadata": {},
   "outputs": [
    {
     "data": {
      "text/plain": [
       "array([], shape=(0, 4), dtype=float64)"
      ]
     },
     "execution_count": 11,
     "metadata": {},
     "output_type": "execute_result"
    }
   ],
   "source": [
    "np.zeros((0,4))"
   ]
  },
  {
   "cell_type": "code",
   "execution_count": 19,
   "metadata": {},
   "outputs": [
    {
     "data": {
      "text/plain": [
       "(4, 1, 2)"
      ]
     },
     "execution_count": 19,
     "metadata": {},
     "output_type": "execute_result"
    }
   ],
   "source": [
    "np.expand_dims(x, 1).shape\n"
   ]
  },
  {
   "cell_type": "code",
   "execution_count": 20,
   "metadata": {},
   "outputs": [
    {
     "data": {
      "text/plain": [
       "array([[0., 1.],\n",
       "       [0., 2.],\n",
       "       [5., 3.],\n",
       "       [6., 1.]])"
      ]
     },
     "execution_count": 20,
     "metadata": {},
     "output_type": "execute_result"
    }
   ],
   "source": [
    "x"
   ]
  },
  {
   "cell_type": "code",
   "execution_count": 22,
   "metadata": {},
   "outputs": [
    {
     "data": {
      "text/plain": [
       "array([[[ 0.,  0.],\n",
       "        [ 0.,  1.],\n",
       "        [ 5.,  2.],\n",
       "        [ 6.,  0.]],\n",
       "\n",
       "       [[ 0., -1.],\n",
       "        [ 0.,  0.],\n",
       "        [ 5.,  1.],\n",
       "        [ 6., -1.]],\n",
       "\n",
       "       [[-5., -2.],\n",
       "        [-5., -1.],\n",
       "        [ 0.,  0.],\n",
       "        [ 1., -2.]],\n",
       "\n",
       "       [[-6.,  0.],\n",
       "        [-6.,  1.],\n",
       "        [-1.,  2.],\n",
       "        [ 0.,  0.]]])"
      ]
     },
     "execution_count": 22,
     "metadata": {},
     "output_type": "execute_result"
    }
   ],
   "source": [
    "d = np.expand_dims(x, 0) - np.expand_dims(x, 1)\n",
    "d"
   ]
  },
  {
   "cell_type": "code",
   "execution_count": 45,
   "metadata": {},
   "outputs": [
    {
     "name": "stderr",
     "output_type": "stream",
     "text": [
      "/Users/yanick.chenard/Documents/dev/effective_xgboost_book/.venv/lib/python3.10/site-packages/numpy/linalg/_linalg.py:2780: RuntimeWarning: divide by zero encountered in reciprocal\n",
      "  absx **= ord\n"
     ]
    },
    {
     "data": {
      "text/plain": [
       "array([[0.        , 0.        , 1.42857143, 0.        ],\n",
       "       [0.        , 0.        , 0.83333333, 0.85714286],\n",
       "       [1.42857143, 0.83333333, 0.        , 0.66666667],\n",
       "       [0.        , 0.85714286, 0.66666667, 0.        ]])"
      ]
     },
     "execution_count": 45,
     "metadata": {},
     "output_type": "execute_result"
    }
   ],
   "source": [
    "np.linalg.norm(d, axis=2, ord=-1)"
   ]
  },
  {
   "cell_type": "code",
   "execution_count": 41,
   "metadata": {},
   "outputs": [
    {
     "data": {
      "text/plain": [
       "array([[[0.        ],\n",
       "        [1.        ],\n",
       "        [5.38516481],\n",
       "        [6.        ]],\n",
       "\n",
       "       [[1.        ],\n",
       "        [0.        ],\n",
       "        [5.09901951],\n",
       "        [6.08276253]],\n",
       "\n",
       "       [[5.38516481],\n",
       "        [5.09901951],\n",
       "        [0.        ],\n",
       "        [2.23606798]],\n",
       "\n",
       "       [[6.        ],\n",
       "        [6.08276253],\n",
       "        [2.23606798],\n",
       "        [0.        ]]])"
      ]
     },
     "execution_count": 41,
     "metadata": {},
     "output_type": "execute_result"
    }
   ],
   "source": [
    "np.linalg.norm(d, axis=2, keepdims=True)"
   ]
  },
  {
   "cell_type": "code",
   "execution_count": 39,
   "metadata": {},
   "outputs": [
    {
     "data": {
      "text/plain": [
       "array([0., 1.])"
      ]
     },
     "execution_count": 39,
     "metadata": {},
     "output_type": "execute_result"
    }
   ],
   "source": [
    "d[0,1,:]"
   ]
  }
 ],
 "metadata": {
  "kernelspec": {
   "display_name": ".venv",
   "language": "python",
   "name": "python3"
  },
  "language_info": {
   "codemirror_mode": {
    "name": "ipython",
    "version": 3
   },
   "file_extension": ".py",
   "mimetype": "text/x-python",
   "name": "python",
   "nbconvert_exporter": "python",
   "pygments_lexer": "ipython3",
   "version": "3.10.9"
  }
 },
 "nbformat": 4,
 "nbformat_minor": 2
}
